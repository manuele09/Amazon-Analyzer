{
 "cells": [
  {
   "cell_type": "markdown",
   "id": "f01e0e1d",
   "metadata": {
    "slideshow": {
     "slide_type": "slide"
    }
   },
   "source": [
    "# Amazon Products Analyzer"
   ]
  },
  {
   "cell_type": "markdown",
   "id": "5909b953",
   "metadata": {
    "slideshow": {
     "slide_type": "subslide"
    }
   },
   "source": [
    "Questo vuole essere uno strumento pensato per estrapolare più informazioni possibili dal sito di Amazon, facendo riferimento ad un particolare prodotto che si vuole studiuare.\n",
    "Un utente interessato all'acquisto di un prodotto su Amazon può contare per la sua scelta solo sulle informazioni fornite dal produttore stesso oppure dalle recensioni e domande lasciate da altri clienti. In particolare queste ultime due possono essere disponibili in grandi quantità, e perciò questi dati probabilmente non saranno mai sfruttati appieno."
   ]
  },
  {
   "cell_type": "markdown",
   "id": "8607da52",
   "metadata": {
    "slideshow": {
     "slide_type": "slide"
    }
   },
   "source": [
    "# Python"
   ]
  },
  {
   "cell_type": "markdown",
   "id": "d0f8ff0b",
   "metadata": {
    "slideshow": {
     "slide_type": "subslide"
    }
   },
   "source": [
    "Attraverso tecniche di Web Scraping vengono estratte le informazioni relative a ciascuna recensione, ovvero:"
   ]
  },
  {
   "cell_type": "markdown",
   "id": "3eb7f69e",
   "metadata": {
    "slideshow": {
     "slide_type": "fragment"
    }
   },
   "source": [
    "-nome del prodotto\n",
    "\n",
    "-titolo della recensione\n",
    "\n",
    "-valutazione del cliente (sotto forma di stelle)\n",
    "\n",
    "-corpo della recensione\n",
    "\n",
    "-data della recensione\n",
    "\n",
    "-paese\n",
    "\n",
    "-se l'aquisto è stato verificato"
   ]
  },
  {
   "cell_type": "markdown",
   "id": "4d37b713",
   "metadata": {
    "slideshow": {
     "slide_type": "slide"
    }
   },
   "source": [
    "# Logstash"
   ]
  },
  {
   "cell_type": "markdown",
   "id": "7bccfcea",
   "metadata": {
    "slideshow": {
     "slide_type": "subslide"
    }
   },
   "source": [
    "Python invierà i dati estratti a un server Logstash."
   ]
  },
  {
   "cell_type": "markdown",
   "id": "b1080380",
   "metadata": {
    "slideshow": {
     "slide_type": "fragment"
    }
   },
   "source": [
    "Qui il dato ricevuto verrà convertito in formato json e attraverso un filtro verranno elminati tutti i campi superflui."
   ]
  },
  {
   "cell_type": "markdown",
   "id": "c447e6f0",
   "metadata": {
    "slideshow": {
     "slide_type": "fragment"
    }
   },
   "source": [
    "Infine il dato verrà inviato su un unico topic di un server Kafka."
   ]
  },
  {
   "cell_type": "markdown",
   "id": "d2a14534",
   "metadata": {
    "slideshow": {
     "slide_type": "slide"
    }
   },
   "source": [
    "# Kafka"
   ]
  },
  {
   "cell_type": "markdown",
   "id": "a3482e60",
   "metadata": {
    "slideshow": {
     "slide_type": "subslide"
    }
   },
   "source": [
    "Qui è presente un unico topic sul quale Logstash agirà da producer e Spark da consumer."
   ]
  },
  {
   "cell_type": "markdown",
   "id": "37795413",
   "metadata": {
    "slideshow": {
     "slide_type": "slide"
    }
   },
   "source": [
    "# Spark"
   ]
  },
  {
   "cell_type": "markdown",
   "id": "a0546656",
   "metadata": {
    "slideshow": {
     "slide_type": "subslide"
    }
   },
   "source": [
    "Spark Streaming è usato per consumare in tempo reale i dati presenti sul topic di Kafka. In particolare verranno usati dei modelli di Machine Learning le cui componenti base sono già messe a disposizione dalla libreria per il processamento del linguaggio naturale Spark NLP."
   ]
  },
  {
   "cell_type": "markdown",
   "id": "19c0db26",
   "metadata": {
    "slideshow": {
     "slide_type": "fragment"
    }
   },
   "source": [
    "Il primo modello cerca di stabilire se la recensione sia positiva o negativa, a prescindere del numero di stelle assegnate dal cliente."
   ]
  },
  {
   "cell_type": "markdown",
   "id": "cba3cf9c",
   "metadata": {
    "slideshow": {
     "slide_type": "fragment"
    }
   },
   "source": [
    "Il secondo fa una analisi grammaticale dei corpi delle varie recensioni per fare una classificazione dei token. Quest'ultima può essere utile per identificare quali sono i nomi, gli aggettivi, o i verbi più usati dai clienti per descrivere un determinato prodotto. "
   ]
  },
  {
   "cell_type": "markdown",
   "id": "380d2e51",
   "metadata": {
    "slideshow": {
     "slide_type": "slide"
    }
   },
   "source": [
    "# ElasticSearch"
   ]
  },
  {
   "cell_type": "markdown",
   "id": "50ff21f6",
   "metadata": {
    "slideshow": {
     "slide_type": "subslide"
    }
   },
   "source": [
    "I risultati di questi processamenti verranno inviati ad Elasticsearch, che li salverà su due indici differenti."
   ]
  },
  {
   "cell_type": "markdown",
   "id": "c4be994c",
   "metadata": {
    "slideshow": {
     "slide_type": "slide"
    }
   },
   "source": [
    "# Kibana"
   ]
  },
  {
   "cell_type": "markdown",
   "id": "2bb8fcb7",
   "metadata": {
    "slideshow": {
     "slide_type": "subslide"
    }
   },
   "source": [
    "Infine Kibana sarà l'interfaccia grafica che permetterà di visualizzare il risultato finale della pipeline con opporture Dashboards."
   ]
  }
 ],
 "metadata": {
  "celltoolbar": "Slideshow",
  "kernelspec": {
   "display_name": "Python 3 (ipykernel)",
   "language": "python",
   "name": "python3"
  },
  "language_info": {
   "codemirror_mode": {
    "name": "ipython",
    "version": 3
   },
   "file_extension": ".py",
   "mimetype": "text/x-python",
   "name": "python",
   "nbconvert_exporter": "python",
   "pygments_lexer": "ipython3",
   "version": "3.9.5"
  }
 },
 "nbformat": 4,
 "nbformat_minor": 5
}
